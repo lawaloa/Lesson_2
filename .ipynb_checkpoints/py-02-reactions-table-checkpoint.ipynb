{
  "cells": [
    {
      "cell_type": "markdown",
      "metadata": {},
      "source": [
        "# Code Along: Reactions Table\n",
        "\n",
        "## Start\n",
        "\n",
        "Setting up."
      ]
    },
    {
      "cell_type": "code",
      "execution_count": null,
      "metadata": {},
      "outputs": [],
      "source": [
        "import polars as pl\n",
        "import polars.selectors as cs\n",
        "from great_tables import GT, md\n",
        "from great_tables.data import reactions"
      ]
    },
    {
      "cell_type": "markdown",
      "metadata": {},
      "source": [
        "Transforming the data."
      ]
    },
    {
      "cell_type": "code",
      "execution_count": null,
      "metadata": {},
      "outputs": [],
      "source": [
        "reactions_mini = (\n",
        "    pl.from_pandas(reactions)\n",
        "    .filter(pl.col(\"cmpd_type\") == \"mercaptan\")\n",
        "    .select([\n",
        "        \"cmpd_name\",\n",
        "        \"cmpd_formula\",\n",
        "        cs.ends_with(\"k298\")\n",
        "    ])\n",
        "    .with_columns(\n",
        "        cmpd_formula=pl.concat_str(\n",
        "            \"%\" + pl.col(\"cmpd_formula\") + \"%\"\n",
        "        )\n",
        "    )\n",
        ")\n",
        "\n",
        "reactions_mini"
      ]
    },
    {
      "cell_type": "markdown",
      "metadata": {},
      "source": [
        "Let's get the data into Great Tables. Plus let's make a stub."
      ]
    },
    {
      "cell_type": "code",
      "execution_count": null,
      "metadata": {},
      "outputs": [],
      "source": [
        "gt_tbl_1 = # \n",
        "\n",
        "gt_tbl_1"
      ]
    },
    {
      "cell_type": "markdown",
      "metadata": {},
      "source": [
        "## Introducing Units Notation\n",
        "\n",
        "Add a title to the table to explain contents."
      ]
    },
    {
      "cell_type": "code",
      "execution_count": null,
      "metadata": {},
      "outputs": [],
      "source": [
        "gt_tbl_2 = # (\n",
        "    #gt_tbl_1\n",
        "#)\n",
        "\n",
        "gt_tbl_2"
      ]
    },
    {
      "cell_type": "markdown",
      "metadata": {},
      "source": [
        "Group numerical columns with a spanner. Use this for the label:\n",
        "`\"Reaction Rate Constant (298 K),<br>{{cm^3 molecules^–1 s^–1}}\"`"
      ]
    },
    {
      "cell_type": "code",
      "execution_count": null,
      "metadata": {},
      "outputs": [],
      "source": [
        "gt_tbl_3 = # (\n",
        "    # gt_tbl_2\n",
        "#)\n",
        "\n",
        "gt_tbl_3"
      ]
    },
    {
      "cell_type": "markdown",
      "metadata": {},
      "source": [
        "Change Column labels for readability. The column names are:\n",
        "`cmpd_formula`, `OH_k298`, `O3_k298`, `NO3_k298`, and `Cl_k298`."
      ]
    },
    {
      "cell_type": "code",
      "execution_count": null,
      "metadata": {},
      "outputs": [],
      "source": [
        "gt_tbl_4 = # (\n",
        "    # gt_tbl_3\n",
        "#)\n",
        "\n",
        "gt_tbl_4"
      ]
    },
    {
      "cell_type": "markdown",
      "metadata": {},
      "source": [
        "## Formatting for Science with fmt_units() and fmt_scientific()\n",
        "\n",
        "Format the chemical formulas to make them look better."
      ]
    },
    {
      "cell_type": "code",
      "execution_count": null,
      "metadata": {},
      "outputs": [],
      "source": [
        "gt_tbl_5 = # (\n",
        "    # gt_tbl_4\n",
        "#)\n",
        "\n",
        "gt_tbl_5"
      ]
    },
    {
      "cell_type": "markdown",
      "metadata": {},
      "source": [
        "Format the numeric values."
      ]
    },
    {
      "cell_type": "code",
      "execution_count": null,
      "metadata": {},
      "outputs": [],
      "source": [
        "gt_tbl_6 = # (\n",
        "    # gt_tbl_5\n",
        "#)\n",
        "\n",
        "gt_tbl_6"
      ]
    },
    {
      "cell_type": "markdown",
      "metadata": {},
      "source": [
        "Replace the `None` values."
      ]
    },
    {
      "cell_type": "code",
      "execution_count": null,
      "metadata": {},
      "outputs": [],
      "source": [
        "gt_tbl_7 = # (\n",
        "    # gt_tbl_6\n",
        "#)\n",
        "\n",
        "gt_tbl_7"
      ]
    },
    {
      "cell_type": "markdown",
      "metadata": {},
      "source": [
        "Hide redundant columns."
      ]
    },
    {
      "cell_type": "code",
      "execution_count": null,
      "metadata": {},
      "outputs": [],
      "source": [
        "gt_tbl_8 = # (\n",
        "    # gt_tbl_7\n",
        "#)\n",
        "\n",
        "gt_tbl_8"
      ]
    },
    {
      "cell_type": "markdown",
      "metadata": {},
      "source": [
        "## Using the opt_*() Methods for Quick Styling\n",
        "\n",
        "Use theming to style quickly."
      ]
    },
    {
      "cell_type": "code",
      "execution_count": null,
      "metadata": {},
      "outputs": [],
      "source": [
        "gt_tbl_9 = # (\n",
        "    # gt_tbl_8\n",
        "#)\n",
        "\n",
        "gt_tbl_9"
      ]
    },
    {
      "cell_type": "markdown",
      "metadata": {},
      "source": [
        "Don't use the default font."
      ]
    },
    {
      "cell_type": "code",
      "execution_count": null,
      "metadata": {},
      "outputs": [],
      "source": [
        "gt_tbl_10 = # (\n",
        "    # gt_tbl_9\n",
        "#)\n",
        "\n",
        "gt_tbl_10"
      ]
    },
    {
      "cell_type": "markdown",
      "metadata": {},
      "source": [
        "Make more space between neighboring values."
      ]
    },
    {
      "cell_type": "code",
      "execution_count": null,
      "metadata": {},
      "outputs": [],
      "source": [
        "gt_tbl_11 = # (\n",
        "    # gt_tbl_10\n",
        "#)\n",
        "\n",
        "gt_tbl_11"
      ]
    }
  ],
  "metadata": {
    "kernelspec": {
      "display_name": "Python 3 (ipykernel)",
      "language": "python",
      "name": "python3"
    },
    "language_info": {
      "codemirror_mode": {
        "name": "ipython",
        "version": 3
      },
      "file_extension": ".py",
      "mimetype": "text/x-python",
      "name": "python",
      "nbconvert_exporter": "python",
      "pygments_lexer": "ipython3",
      "version": "3.9.6"
    }
  },
  "nbformat": 4,
  "nbformat_minor": 4
}
